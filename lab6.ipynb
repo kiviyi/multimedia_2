{
  "cells": [
    {
      "cell_type": "markdown",
      "metadata": {},
      "source": [
        "# Лабораторная работа №6\n",
        "\n",
        "## Выполнил Ворошилов Кирилл, М8О-401Б-21\n"
      ]
    },
    {
      "cell_type": "markdown",
      "metadata": {},
      "source": [
        "### 1. Выбор начальных условий\n",
        "* для классификации будет использован классический датасет CIFAR-10"
      ]
    },
    {
      "cell_type": "code",
      "execution_count": 1,
      "metadata": {},
      "outputs": [
        {
          "name": "stderr",
          "output_type": "stream",
          "text": [
            "c:\\Users\\asus rog\\anaconda3\\lib\\site-packages\\torchvision\\io\\image.py:13: UserWarning: Failed to load image Python extension: '[WinError 127] Не найдена указанная процедура'If you don't plan on using image functionality from `torchvision.io`, you can ignore this warning. Otherwise, there might be something wrong with your environment. Did you have `libjpeg` or `libpng` installed before building `torchvision` from source?\n",
            "  warn(\n"
          ]
        }
      ],
      "source": [
        "import torch\n",
        "import torchvision\n",
        "import torchvision.transforms as transforms\n",
        "import torch.nn as nn\n",
        "import torch.optim as optim\n",
        "import matplotlib.pyplot as plt\n",
        "import numpy as np\n",
        "from torch.utils.data import DataLoader\n",
        "from torchvision.models import ViT_B_16_Weights, resnet18, vit_b_16"
      ]
    },
    {
      "cell_type": "code",
      "execution_count": 2,
      "metadata": {},
      "outputs": [
        {
          "name": "stdout",
          "output_type": "stream",
          "text": [
            "Используемое устройство: cuda\n"
          ]
        }
      ],
      "source": [
        "device = torch.device(\"cuda\" if torch.cuda.is_available() else \"cpu\")\n",
        "print(f\"Используемое устройство: {device}\")"
      ]
    },
    {
      "cell_type": "code",
      "execution_count": 3,
      "metadata": {},
      "outputs": [
        {
          "name": "stdout",
          "output_type": "stream",
          "text": [
            "Files already downloaded and verified\n",
            "Files already downloaded and verified\n"
          ]
        }
      ],
      "source": [
        "transform = transforms.Compose([\n",
        "    transforms.ToTensor(),\n",
        "    transforms.Normalize((0.5, 0.5, 0.5), (0.5, 0.5, 0.5))\n",
        "])\n",
        "\n",
        "trainset = torchvision.datasets.CIFAR10(root='./data', train=True, download=True, transform=transform)\n",
        "trainloader = DataLoader(trainset, batch_size=64, shuffle=True)\n",
        "\n",
        "testset = torchvision.datasets.CIFAR10(root='./data', train=False, download=True, transform=transform)\n",
        "testloader = DataLoader(testset, batch_size=64, shuffle=False)"
      ]
    },
    {
      "cell_type": "markdown",
      "metadata": {},
      "source": [
        "В качестве метрик лучше всего подойдут accuracy и mean squared error:\n",
        "* Метрика для классификации (Cross-entropy): Измеряет среднее количество бит , необходимое для идентификации события, взятого из набора"
      ]
    },
    {
      "cell_type": "code",
      "execution_count": 3,
      "metadata": {},
      "outputs": [],
      "source": [
        "criterion = nn.CrossEntropyLoss()"
      ]
    },
    {
      "cell_type": "code",
      "execution_count": 4,
      "metadata": {},
      "outputs": [],
      "source": [
        "# функция оценки\n",
        "def evaluate(model, loader):\n",
        "    model.eval()\n",
        "    correct, total = 0, 0\n",
        "    with torch.no_grad():\n",
        "        for inputs, labels in loader:\n",
        "            outputs = model(inputs)\n",
        "            _, predicted = torch.max(outputs, 1)\n",
        "            total += labels.size(0)\n",
        "            correct += (predicted == labels).sum().item()\n",
        "    return correct / total"
      ]
    },
    {
      "cell_type": "markdown",
      "metadata": {},
      "source": [
        "### 2. Создание бейзлайна и оценка качества"
      ]
    },
    {
      "cell_type": "markdown",
      "metadata": {},
      "source": [
        "Обучим модели из torchvision"
      ]
    },
    {
      "cell_type": "code",
      "execution_count": 6,
      "metadata": {},
      "outputs": [
        {
          "name": "stdout",
          "output_type": "stream",
          "text": [
            "resnet18 Accuracy: 0.7473\n"
          ]
        }
      ],
      "source": [
        "#Обучение SimpleCNN (сверточная сеть)\n",
        "model_cnn = resnet18()\n",
        "optimizer_cnn = optim.Adam(model_cnn.parameters(), lr=0.001)\n",
        "\n",
        "for epoch in range(5):\n",
        "    model_cnn.train()\n",
        "    for inputs, labels in trainloader:\n",
        "        optimizer_cnn.zero_grad()\n",
        "        outputs = model_cnn(inputs)\n",
        "        loss = criterion(outputs, labels)\n",
        "        loss.backward()\n",
        "        optimizer_cnn.step()\n",
        "\n",
        "acc_cnn = evaluate(model_cnn, testloader)\n",
        "print(f\"resnet18 Accuracy: {acc_cnn:.4f}\")"
      ]
    },
    {
      "cell_type": "code",
      "execution_count": 6,
      "metadata": {},
      "outputs": [
        {
          "name": "stdout",
          "output_type": "stream",
          "text": [
            "Files already downloaded and verified\n",
            "Files already downloaded and verified\n"
          ]
        }
      ],
      "source": [
        "transform_vit = transforms.Compose([\n",
        "    transforms.Resize((224, 224)),\n",
        "    transforms.ToTensor(),\n",
        "    transforms.Normalize((0.5,), (0.5,))\n",
        "])\n",
        "\n",
        "trainset_vit = torchvision.datasets.CIFAR10(root='./data', train=True, download=True, transform=transform_vit)\n",
        "trainloader_vit_resnet = DataLoader(trainset_vit, batch_size=6, shuffle=True)\n",
        "\n",
        "testset_vit = torchvision.datasets.CIFAR10(root='./data', train=False, download=True, transform=transform_vit)\n",
        "testloader = DataLoader(testset_vit, batch_size=6, shuffle=False)"
      ]
    },
    {
      "cell_type": "code",
      "execution_count": 6,
      "metadata": {},
      "outputs": [
        {
          "name": "stdout",
          "output_type": "stream",
          "text": [
            "final epoch 1\n",
            "final epoch 2\n",
            "final epoch 3\n"
          ]
        }
      ],
      "source": [
        "# Обучение Vision Transformer (трансформерная модель)\n",
        "vit_weights = ViT_B_16_Weights.DEFAULT\n",
        "model_vit = vit_b_16(weights=None)\n",
        "model_vit.heads.head = nn.Linear(model_vit.heads.head.in_features, 10)\n",
        "model_vit = model_vit.to(device)\n",
        "\n",
        "optimizer_vit = optim.Adam(model_vit.parameters(), lr=0.0001)\n",
        "\n",
        "for epoch in range(3):\n",
        "    model_vit.train()\n",
        "    for inputs, labels in trainloader_vit_resnet:\n",
        "        inputs, labels = inputs.to(device), labels.to(device)\n",
        "        optimizer_vit.zero_grad()\n",
        "        outputs = model_vit(inputs)\n",
        "        loss = criterion(outputs, labels)\n",
        "        loss.backward()\n",
        "        optimizer_vit.step()\n",
        "    print(f'final epoch {epoch + 1}')"
      ]
    },
    {
      "cell_type": "markdown",
      "metadata": {},
      "source": [
        "Результат:"
      ]
    },
    {
      "cell_type": "code",
      "execution_count": 13,
      "metadata": {},
      "outputs": [],
      "source": [
        "def evaluate(model, dataloader):\n",
        "    model.eval()\n",
        "    correct = 0\n",
        "    total = 0\n",
        "    with torch.no_grad():\n",
        "        for inputs, labels in dataloader:\n",
        "            inputs, labels = inputs.to(device), labels.to(device)  # 👈 обязательно!\n",
        "            outputs = model(inputs)\n",
        "            _, predicted = torch.max(outputs, 1)\n",
        "            correct += (predicted == labels).sum().item()\n",
        "            total += labels.size(0)\n",
        "    return correct / total\n"
      ]
    },
    {
      "cell_type": "code",
      "execution_count": 9,
      "metadata": {},
      "outputs": [
        {
          "name": "stdout",
          "output_type": "stream",
          "text": [
            "ViT Accuracy: 0.3313\n"
          ]
        }
      ],
      "source": [
        "acc_vit = evaluate(model_vit, testloader)\n",
        "print(f\"ViT Accuracy: {acc_vit:.4f}\")"
      ]
    },
    {
      "cell_type": "markdown",
      "metadata": {},
      "source": [
        "### 3. Улучшение бейзлайна"
      ]
    },
    {
      "cell_type": "markdown",
      "metadata": {},
      "source": [
        "Визуализируем данные"
      ]
    },
    {
      "cell_type": "code",
      "execution_count": 7,
      "metadata": {},
      "outputs": [
        {
          "data": {
            "image/png": "[encoded data removed]",
            "text/plain": [
              "<Figure size 800x400 with 1 Axes>"
            ]
          },
          "metadata": {},
          "output_type": "display_data"
        },
        {
          "name": "stdout",
          "output_type": "stream",
          "text": [
            "Примеры аугментированных изображений из обучающей выборки\n"
          ]
        }
      ],
      "source": [
        "def imshow(img):\n",
        "    img = img / 2 + 0.5  # отнормировать обратно\n",
        "    npimg = img.numpy()\n",
        "    plt.figure(figsize=(8, 4))\n",
        "    plt.imshow(np.transpose(npimg, (1, 2, 0)))\n",
        "    plt.axis(\"off\")\n",
        "    plt.show()\n",
        "\n",
        "# Получим случайный батч\n",
        "examples = iter(trainloader_vit_resnet)\n",
        "images, labels = next(examples)\n",
        "\n",
        "# Отображение\n",
        "imshow(torchvision.utils.make_grid(images[:8]))\n",
        "print(\"Примеры аугментированных изображений из обучающей выборки\")"
      ]
    },
    {
      "cell_type": "markdown",
      "metadata": {},
      "source": [
        "Проведем препроцессинг данных"
      ]
    },
    {
      "cell_type": "code",
      "execution_count": 4,
      "metadata": {},
      "outputs": [],
      "source": [
        "transform_base = transforms.Compose([\n",
        "    transforms.ToTensor(),\n",
        "    transforms.Normalize((0.5, 0.5, 0.5), (0.5, 0.5, 0.5))\n",
        "])\n",
        "\n",
        "# Препроцессинг для Vision Transformer (resize до 224x224)\n",
        "transform_vit = transforms.Compose([\n",
        "    transforms.Resize((224, 224)),\n",
        "    transforms.ToTensor(),\n",
        "    transforms.Normalize((0.5,), (0.5,))\n",
        "])\n",
        "\n",
        "# Препроцессинг с аугментациями для улучшенного бейзлайна\n",
        "transform_augmented = transforms.Compose([\n",
        "    transforms.RandomHorizontalFlip(),\n",
        "    transforms.RandomRotation(15),\n",
        "    transforms.ColorJitter(brightness=0.2, contrast=0.2, saturation=0.2, hue=0.1),\n",
        "    transforms.ToTensor(),\n",
        "    transforms.Normalize((0.5, 0.5, 0.5), (0.5, 0.5, 0.5))\n",
        "])"
      ]
    },
    {
      "cell_type": "code",
      "execution_count": 14,
      "metadata": {},
      "outputs": [
        {
          "name": "stdout",
          "output_type": "stream",
          "text": [
            "Files already downloaded and verified\n",
            "Files already downloaded and verified\n"
          ]
        }
      ],
      "source": [
        "trainset_improved = torchvision.datasets.CIFAR10(root='./data', train=True, download=True, transform=transform_augmented)\n",
        "testset_improved = torchvision.datasets.CIFAR10(root='./data', train=False, download=True, transform=transform_base)\n",
        "\n",
        "trainloader_improved = DataLoader(trainset_improved, batch_size=4, shuffle=True)\n",
        "testloader_improved = DataLoader(testset_improved, batch_size=4, shuffle=False)"
      ]
    },
    {
      "cell_type": "code",
      "execution_count": null,
      "metadata": {},
      "outputs": [],
      "source": []
    },
    {
      "cell_type": "markdown",
      "metadata": {},
      "source": [
        "Улучшим модель подобрав гиперпараметры"
      ]
    },
    {
      "cell_type": "code",
      "execution_count": 11,
      "metadata": {},
      "outputs": [],
      "source": [
        "resnet_model = resnet18(weights=None)\n",
        "resnet_model.fc = nn.Linear(resnet_model.fc.in_features, 10)\n",
        "resnet_model = resnet_model.to(device)\n",
        "\n",
        "optimizer_resnet = optim.SGD(resnet_model.parameters(), lr=0.01, momentum=0.9, weight_decay=1e-4)\n",
        "scheduler_resnet = optim.lr_scheduler.StepLR(optimizer_resnet, step_size=10, gamma=0.1)"
      ]
    },
    {
      "cell_type": "code",
      "execution_count": 10,
      "metadata": {},
      "outputs": [],
      "source": [
        "# === Vision Transformer ===\n",
        "vit_model = vit_b_16(weights=None)\n",
        "vit_model.heads.head = nn.Linear(vit_model.heads.head.in_features, 10)\n",
        "vit_model = vit_model.to(device)\n",
        "\n",
        "optimizer_vit = optim.AdamW(vit_model.parameters(), lr=0.0003, weight_decay=0.01)\n",
        "scheduler_vit = optim.lr_scheduler.CosineAnnealingLR(optimizer_vit, T_max=10)"
      ]
    },
    {
      "cell_type": "code",
      "execution_count": 8,
      "metadata": {},
      "outputs": [],
      "source": [
        "# === Обучение функции ===\n",
        "def train_model(model, optimizer, scheduler, dataloader, epochs=10):\n",
        "    model.train()\n",
        "    for epoch in range(epochs):\n",
        "        running_loss = 0.0\n",
        "        for images, labels in dataloader:\n",
        "            images, labels = images.to(device), labels.to(device)\n",
        "            optimizer.zero_grad()\n",
        "            outputs = model(images)\n",
        "            loss = nn.CrossEntropyLoss()(outputs, labels)\n",
        "            loss.backward()\n",
        "            optimizer.step()\n",
        "            running_loss += loss.item()\n",
        "        scheduler.step()\n",
        "        print(f\"Epoch {epoch+1}: loss = {running_loss / len(dataloader):.4f}\")"
      ]
    },
    {
      "cell_type": "code",
      "execution_count": 15,
      "metadata": {},
      "outputs": [
        {
          "name": "stdout",
          "output_type": "stream",
          "text": [
            "\n",
            "[ResNet18 Training with tuned hyperparameters]\n",
            "Epoch 1: loss = 2.1757\n",
            "Epoch 2: loss = 1.8950\n",
            "Epoch 3: loss = 1.7664\n",
            "Epoch 4: loss = 1.6534\n",
            "Epoch 5: loss = 1.5708\n"
          ]
        }
      ],
      "source": [
        "print(\"\\n[ResNet18 Training with tuned hyperparameters]\")\n",
        "train_model(resnet_model, optimizer_resnet, scheduler_resnet, trainloader_improved, epochs=5)"
      ]
    },
    {
      "cell_type": "code",
      "execution_count": 16,
      "metadata": {},
      "outputs": [
        {
          "name": "stdout",
          "output_type": "stream",
          "text": [
            "\n",
            "Accuracy ResNet18 (improved): 0.4437\n"
          ]
        }
      ],
      "source": [
        "acc_resnet = evaluate(resnet_model, trainloader_improved)\n",
        "print(f\"\\nAccuracy ResNet18 (improved): {acc_resnet:.4f}\")"
      ]
    },
    {
      "cell_type": "code",
      "execution_count": 5,
      "metadata": {},
      "outputs": [
        {
          "name": "stdout",
          "output_type": "stream",
          "text": [
            "Files already downloaded and verified\n",
            "Files already downloaded and verified\n"
          ]
        }
      ],
      "source": [
        "trainset_vit = torchvision.datasets.CIFAR10(\n",
        "    root='./data', train=True, download=True, transform=transform_vit)\n",
        "testset_vit = torchvision.datasets.CIFAR10(\n",
        "    root='./data', train=False, download=True, transform=transform_vit)"
      ]
    },
    {
      "cell_type": "code",
      "execution_count": 6,
      "metadata": {},
      "outputs": [],
      "source": [
        "trainloader_vit = DataLoader(trainset_vit, batch_size=4, shuffle=True)\n",
        "testloader_vit = DataLoader(testset_vit, batch_size=4, shuffle=False)"
      ]
    },
    {
      "cell_type": "code",
      "execution_count": 11,
      "metadata": {},
      "outputs": [
        {
          "name": "stdout",
          "output_type": "stream",
          "text": [
            "\n",
            "[ViT-B/16 Training with tuned hyperparameters]\n",
            "Epoch 1: loss = 2.1158\n",
            "Epoch 2: loss = 2.0698\n",
            "Epoch 3: loss = 2.0417\n"
          ]
        }
      ],
      "source": [
        "print(\"\\n[ViT-B/16 Training with tuned hyperparameters]\")\n",
        "train_model(vit_model, optimizer_vit, scheduler_vit, trainloader_vit, epochs=3)"
      ]
    },
    {
      "cell_type": "code",
      "execution_count": null,
      "metadata": {},
      "outputs": [
        {
          "name": "stdout",
          "output_type": "stream",
          "text": [
            "Accuracy ViT-B/16 (improved): 0.2367\n"
          ]
        },
        {
          "ename": "",
          "evalue": "",
          "output_type": "error",
          "traceback": [
            "\u001b[1;31mThe Kernel crashed while executing code in the current cell or a previous cell. \n",
            "\u001b[1;31mPlease review the code in the cell(s) to identify a possible cause of the failure. \n",
            "\u001b[1;31mClick <a href='https://aka.ms/vscodeJupyterKernelCrash'>here</a> for more info. \n",
            "\u001b[1;31mView Jupyter <a href='command:jupyter.viewOutput'>log</a> for further details."
          ]
        }
      ],
      "source": [
        "acc_vit = evaluate(vit_model, testloader_vit)\n",
        "print(f\"Accuracy ViT-B/16 (improved): {acc_vit:.4f}\")"
      ]
    },
    {
      "cell_type": "markdown",
      "metadata": {},
      "source": [
        "сравним результаты"
      ]
    },
    {
      "cell_type": "markdown",
      "metadata": {},
      "source": [
        "Вывод:\n",
        "* Улучшение гиперпараметров привело к увеличению точности модели классификации, однако ошибка в регрессии стала хуже"
      ]
    },
    {
      "cell_type": "markdown",
      "metadata": {},
      "source": [
        "### 4. Имплементация алгоритма машинного обучения"
      ]
    },
    {
      "cell_type": "markdown",
      "metadata": {},
      "source": [
        "Имплементируем алгоритмы:"
      ]
    },
    {
      "cell_type": "code",
      "execution_count": 5,
      "metadata": {},
      "outputs": [],
      "source": [
        "class MLP(nn.Module):\n",
        "    def __init__(self):\n",
        "        super(MLP, self).__init__()\n",
        "        self.flatten = nn.Flatten()\n",
        "        self.fc1 = nn.Linear(3 * 32 * 32, 512)\n",
        "        self.fc2 = nn.Linear(512, 256)\n",
        "        self.fc3 = nn.Linear(256, 10)\n",
        "        self.relu = nn.ReLU()\n",
        "\n",
        "    def forward(self, x):\n",
        "        x = self.flatten(x)\n",
        "        x = self.relu(self.fc1(x))\n",
        "        x = self.relu(self.fc2(x))\n",
        "        x = self.fc3(x)\n",
        "        return x\n",
        "\n",
        "mlp_model = MLP().to(device)"
      ]
    },
    {
      "cell_type": "code",
      "execution_count": null,
      "metadata": {},
      "outputs": [],
      "source": [
        "class PatchEmbedding(nn.Module):\n",
        "    def __init__(self, img_size=32, patch_size=8, in_channels=3, emb_size=128):\n",
        "        super().__init__()\n",
        "        self.proj = nn.Conv2d(in_channels, emb_size, kernel_size=patch_size, stride=patch_size)\n",
        "\n",
        "    def forward(self, x):\n",
        "        x = self.proj(x)  # (B, emb_size, H/patch, W/patch)\n",
        "        x = x.flatten(2).transpose(1, 2)  # (B, num_patches, emb_size)\n",
        "        return x\n",
        "\n",
        "class SimpleTransformer(nn.Module):\n",
        "    def __init__(self, num_classes=10, emb_size=128, num_heads=4, num_layers=2):\n",
        "        super().__init__()\n",
        "        self.patch_embed = PatchEmbedding()\n",
        "        encoder_layer = nn.TransformerEncoderLayer(d_model=emb_size, nhead=num_heads, batch_first=True)\n",
        "        self.encoder = nn.TransformerEncoder(encoder_layer, num_layers=num_layers)\n",
        "        self.class_token = nn.Parameter(torch.zeros(1, 1, emb_size))\n",
        "        self.mlp_head = nn.Sequential(\n",
        "            nn.LayerNorm(emb_size),\n",
        "            nn.Linear(emb_size, num_classes)\n",
        "        )\n",
        "\n",
        "    def forward(self, x):\n",
        "        B = x.shape[0]\n",
        "        x = self.patch_embed(x)  # (B, N, E)\n",
        "        cls_tokens = self.class_token.expand(B, -1, -1)  # (B, 1, E)\n",
        "        x = torch.cat([cls_tokens, x], dim=1)  # (B, 1+N, E)\n",
        "        x = self.encoder(x)  # (B, 1+N, E)\n",
        "        return self.mlp_head(x[:, 0])\n",
        "\n",
        "transformer_model = SimpleTransformer().to(device)"
      ]
    },
    {
      "cell_type": "code",
      "execution_count": 6,
      "metadata": {},
      "outputs": [],
      "source": [
        "transform = transforms.Compose([\n",
        "    transforms.ToTensor(),\n",
        "    transforms.Normalize((0.5, 0.5, 0.5), (0.5, 0.5, 0.5))\n",
        "])\n",
        "\n",
        "data_augmentation = transforms.Compose([\n",
        "    transforms.RandomHorizontalFlip(),\n",
        "    transforms.RandomRotation(10),\n",
        "    transforms.ToTensor(),\n",
        "    transforms.Normalize((0.5, 0.5, 0.5), (0.5, 0.5, 0.5))\n",
        "])"
      ]
    },
    {
      "cell_type": "code",
      "execution_count": 7,
      "metadata": {},
      "outputs": [
        {
          "name": "stdout",
          "output_type": "stream",
          "text": [
            "Files already downloaded and verified\n",
            "Files already downloaded and verified\n",
            "Files already downloaded and verified\n",
            "Files already downloaded and verified\n",
            "Files already downloaded and verified\n"
          ]
        }
      ],
      "source": [
        "# Обычные датасеты для MLP и Transformer\n",
        "trainset_mlp = torchvision.datasets.CIFAR10(root='./data', train=True, download=True, transform=transform)\n",
        "trainloader_mlp = DataLoader(trainset_mlp, batch_size=64, shuffle=True)\n",
        "\n",
        "testset = torchvision.datasets.CIFAR10(root='./data', train=False, download=True, transform=transform)\n",
        "testloader = DataLoader(testset, batch_size=64, shuffle=False)\n",
        "\n",
        "trainset_transformer = torchvision.datasets.CIFAR10(root='./data', train=True, download=True, transform=transform)\n",
        "trainloader_transformer = DataLoader(trainset_transformer, batch_size=6, shuffle=True)\n",
        "\n",
        "# Аугментированные датасеты\n",
        "trainset_aug_mlp = torchvision.datasets.CIFAR10(root='./data', train=True, download=True, transform=data_augmentation)\n",
        "trainloader_aug_mlp = DataLoader(trainset_aug_mlp, batch_size=64, shuffle=True)\n",
        "\n",
        "trainset_aug_transformer = torchvision.datasets.CIFAR10(root='./data', train=True, download=True, transform=data_augmentation)\n",
        "trainloader_aug_transformer = DataLoader(trainset_aug_transformer, batch_size=6, shuffle=True)"
      ]
    },
    {
      "cell_type": "markdown",
      "metadata": {},
      "source": [
        "Обучим модели без подобранных гиперпараметров"
      ]
    },
    {
      "cell_type": "code",
      "execution_count": 8,
      "metadata": {},
      "outputs": [],
      "source": [
        "def evaluate_model(model, dataloader):\n",
        "    correct = 0\n",
        "    total = 0\n",
        "    model.eval()\n",
        "    with torch.no_grad():\n",
        "        for images, labels in dataloader:\n",
        "            images, labels = images.to(device), labels.to(device)\n",
        "            outputs = model(images)\n",
        "            _, predicted = torch.max(outputs, 1)\n",
        "            total += labels.size(0)\n",
        "            correct += (predicted == labels).sum().item()\n",
        "    model.train()\n",
        "    return correct / total"
      ]
    },
    {
      "cell_type": "code",
      "execution_count": 11,
      "metadata": {},
      "outputs": [],
      "source": [
        "mlp_optimizer = optim.Adam(mlp_model.parameters(), lr=0.001)\n",
        "num_epochs = 10\n",
        "for epoch in range(5):\n",
        "    for images, labels in trainloader_mlp:\n",
        "        images, labels = images.to(device), labels.to(device)\n",
        "        mlp_optimizer.zero_grad()\n",
        "        outputs = mlp_model(images)\n",
        "        loss = criterion(outputs, labels)\n",
        "        loss.backward()\n",
        "        mlp_optimizer.step()"
      ]
    },
    {
      "cell_type": "code",
      "execution_count": 12,
      "metadata": {},
      "outputs": [
        {
          "name": "stdout",
          "output_type": "stream",
          "text": [
            "MLP Model Accuracy: 0.52\n"
          ]
        }
      ],
      "source": [
        "mlp_accuracy = evaluate_model(mlp_model, testloader)\n",
        "print(f'MLP Model Accuracy: {mlp_accuracy:.2f}')"
      ]
    },
    {
      "cell_type": "code",
      "execution_count": 14,
      "metadata": {},
      "outputs": [],
      "source": [
        "transformer_optimizer = optim.Adam(transformer_model.parameters(), lr=0.001)\n",
        "for epoch in range(5):\n",
        "    for images, labels in trainloader_transformer:\n",
        "        images, labels = images.to(device), labels.to(device)\n",
        "        transformer_optimizer.zero_grad()\n",
        "        outputs = transformer_model(images)\n",
        "        loss = criterion(outputs, labels)\n",
        "        loss.backward()\n",
        "        transformer_optimizer.step()"
      ]
    },
    {
      "cell_type": "code",
      "execution_count": 15,
      "metadata": {},
      "outputs": [
        {
          "name": "stdout",
          "output_type": "stream",
          "text": [
            "Transformer Model Accuracy: 0.59\n"
          ]
        }
      ],
      "source": [
        "transformer_accuracy = evaluate_model(transformer_model, testloader)\n",
        "print(f'Transformer Model Accuracy: {transformer_accuracy:.2f}')"
      ]
    },
    {
      "cell_type": "markdown",
      "metadata": {},
      "source": [
        "Обучим модели с подобранными гиперпараметами"
      ]
    },
    {
      "cell_type": "code",
      "execution_count": null,
      "metadata": {},
      "outputs": [
        {
          "name": "stdout",
          "output_type": "stream",
          "text": [
            "Best parameters for classifier: {'learning_rate': 0.2, 'max_depth': 5, 'n_estimators': 100}\n",
            "Best parameters for regressor: {'learning_rate': 0.2, 'max_depth': 7, 'n_estimators': 20}\n"
          ]
        }
      ],
      "source": [
        "mlp_aug_model = MLP().to(device)\n",
        "mlp_aug_optimizer = optim.Adam(mlp_aug_model.parameters(), lr=0.001)"
      ]
    },
    {
      "cell_type": "code",
      "execution_count": null,
      "metadata": {},
      "outputs": [],
      "source": [
        "transformer_aug_model = SimpleTransformer().to(device)\n",
        "transformer_aug_optimizer = optim.Adam(transformer_aug_model.parameters(), lr=0.001)"
      ]
    },
    {
      "cell_type": "code",
      "execution_count": null,
      "metadata": {},
      "outputs": [],
      "source": [
        "for epoch in range(5):\n",
        "    for images, labels in trainloader_aug_mlp:\n",
        "        images, labels = images.to(device), labels.to(device)\n",
        "        mlp_aug_optimizer.zero_grad()\n",
        "        outputs = mlp_aug_model(images)\n",
        "        loss = criterion(outputs, labels)\n",
        "        loss.backward()\n",
        "        mlp_aug_optimizer.step()"
      ]
    },
    {
      "cell_type": "code",
      "execution_count": null,
      "metadata": {},
      "outputs": [
        {
          "name": "stdout",
          "output_type": "stream",
          "text": [
            "MLP with Augmentation Accuracy: 0.61\n"
          ]
        }
      ],
      "source": [
        "mlp_aug_accuracy = evaluate_model(mlp_aug_model, testloader)\n",
        "print(f'MLP with Augmentation Accuracy: {mlp_aug_accuracy:.2f}')"
      ]
    },
    {
      "cell_type": "code",
      "execution_count": null,
      "metadata": {},
      "outputs": [],
      "source": [
        "for epoch in range(num_epochs):\n",
        "    for images, labels in trainloader_aug_transformer:\n",
        "        images, labels = images.to(device), labels.to(device)\n",
        "        transformer_aug_optimizer.zero_grad()\n",
        "        outputs = transformer_aug_model(images)\n",
        "        loss = criterion(outputs, labels)\n",
        "        loss.backward()\n",
        "        transformer_aug_optimizer.step()"
      ]
    },
    {
      "cell_type": "code",
      "execution_count": null,
      "metadata": {},
      "outputs": [
        {
          "name": "stdout",
          "output_type": "stream",
          "text": [
            "Transformer with Augmentation Accuracy: 0.69\n"
          ]
        }
      ],
      "source": [
        "transformer_aug_accuracy = evaluate_model(transformer_aug_model, testloader)\n",
        "print(f'Transformer with Augmentation Accuracy: {transformer_aug_accuracy:.2f}')"
      ]
    },
    {
      "cell_type": "markdown",
      "metadata": {},
      "source": [
        "Сравнение результатов:"
      ]
    },
    {
      "cell_type": "markdown",
      "metadata": {},
      "source": [
        "### Выводы:\n",
        "\n",
        "- **Базовая модель ResNet18** показала наилучшую точность (`Accuracy = 0.7473`) среди всех архитектур без улучшений, значительно превзойдя **ViT** (`Accuracy = 0.3313`). Это свидетельствует о её устойчивости и эффективности на исходных данных.\n",
        "\n",
        "- Попытки **улучшения моделей ResNet18 и ViT** не дали ожидаемого прироста качества. Особенно заметно снижение точности у **ViT-B/16 (Accuracy = 0.2367)**, что указывает на чувствительность трансформеров к настройкам и потенциально недостаточное обучение.\n",
        "\n",
        "- **Простые модели**, такие как **MLP** и **Transformer**, показали умеренные результаты (`0.52` и `0.59` соответственно). Однако **добавление аугментаций** обеспечило ощутимый прирост: до `0.61` у **MLP** и до `0.69` у **Transformer**.\n",
        "\n",
        "- Результаты подчеркивают, что даже базовые архитектуры могут выигрывать за счёт **качественной предобработки данных**, и демонстрируют важность выбора подходящей модели в зависимости от условий задачи и доступных ресурсов.\n"
      ]
    }
  ],
  "metadata": {
    "kernelspec": {
      "display_name": "base",
      "language": "python",
      "name": "python3"
    },
    "language_info": {
      "codemirror_mode": {
        "name": "ipython",
        "version": 3
      },
      "file_extension": ".py",
      "mimetype": "text/x-python",
      "name": "python",
      "nbconvert_exporter": "python",
      "pygments_lexer": "ipython3",
      "version": "3.9.18"
    }
  },
  "nbformat": 4,
  "nbformat_minor": 2
}
